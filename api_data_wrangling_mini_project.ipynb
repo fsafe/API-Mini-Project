{
 "cells": [
  {
   "cell_type": "markdown",
   "metadata": {},
   "source": [
    "This exercise will require you to pull some data from the Qunadl API. Qaundl is currently the most widely used aggregator of financial market data."
   ]
  },
  {
   "cell_type": "markdown",
   "metadata": {},
   "source": [
    "As a first step, you will need to register a free account on the http://www.quandl.com website."
   ]
  },
  {
   "cell_type": "markdown",
   "metadata": {},
   "source": [
    "After you register, you will be provided with a unique API key, that you should store:"
   ]
  },
  {
   "cell_type": "code",
   "execution_count": 1,
   "metadata": {},
   "outputs": [],
   "source": [
    "# Store the API key as a string - according to PEP8, constants are always named in all upper case\n",
    "API_KEY = ''"
   ]
  },
  {
   "cell_type": "markdown",
   "metadata": {},
   "source": [
    "Qaundl has a large number of data sources, but, unfortunately, most of them require a Premium subscription. Still, there are also a good number of free datasets."
   ]
  },
  {
   "cell_type": "markdown",
   "metadata": {},
   "source": [
    "For this mini project, we will focus on equities data from the Frankfurt Stock Exhange (FSE), which is available for free. We'll try and analyze the stock prices of a company called Carl Zeiss Meditec, which manufactures tools for eye examinations, as well as medical lasers for laser eye surgery: https://www.zeiss.com/meditec/int/home.html. The company is listed under the stock ticker AFX_X."
   ]
  },
  {
   "cell_type": "markdown",
   "metadata": {},
   "source": [
    "You can find the detailed Quandl API instructions here: https://docs.quandl.com/docs/time-series"
   ]
  },
  {
   "cell_type": "markdown",
   "metadata": {},
   "source": [
    "While there is a dedicated Python package for connecting to the Quandl API, we would prefer that you use the *requests* package, which can be easily downloaded using *pip* or *conda*. You can find the documentation for the package here: http://docs.python-requests.org/en/master/ "
   ]
  },
  {
   "cell_type": "markdown",
   "metadata": {},
   "source": [
    "Finally, apart from the *requests* package, you are encouraged to not use any third party Python packages, such as *pandas*, and instead focus on what's available in the Python Standard Library (the *collections* module might come in handy: https://pymotw.com/3/collections/).\n",
    "Also, since you won't have access to DataFrames, you are encouraged to us Python's native data structures - preferably dictionaries, though some questions can also be answered using lists.\n",
    "You can read more on these data structures here: https://docs.python.org/3/tutorial/datastructures.html"
   ]
  },
  {
   "cell_type": "markdown",
   "metadata": {},
   "source": [
    "Keep in mind that the JSON responses you will be getting from the API map almost one-to-one to Python's dictionaries. Unfortunately, they can be very nested, so make sure you read up on indexing dictionaries in the documentation provided above."
   ]
  },
  {
   "cell_type": "code",
   "execution_count": 2,
   "metadata": {},
   "outputs": [],
   "source": [
    "# First, import the relevant modules\n",
    "import requests\n",
    "import json\n",
    "import collections"
   ]
  },
  {
   "cell_type": "code",
   "execution_count": 3,
   "metadata": {},
   "outputs": [],
   "source": [
    "# Now, call the Quandl API and pull out a small sample of the data (only one day) to get a glimpse\n",
    "# into the JSON structure that will be returned\n",
    "url = \"https://www.quandl.com/api/v3/datasets/FSE/AFX_X?start_date=2018-12-21&end_date=2018-12-21&api_key=\"+API_KEY\n",
    "r = requests.get(url)\n",
    "r.close()"
   ]
  },
  {
   "cell_type": "code",
   "execution_count": 4,
   "metadata": {},
   "outputs": [
    {
     "name": "stdout",
     "output_type": "stream",
     "text": [
      "This level contain(s)  1  node(s)\n",
      "dataset : {'id': 10095370, 'dataset_code': 'AFX_X', 'database_code': 'FSE', 'name': 'Carl Zeiss Meditec (AFX_X)', 'description': 'Stock Prices for Carl Zeiss Meditec (AFX) from the Frankfurt Stock Exchange.<br><br>Trading System: Xetra<br><br>ISIN: DE0005313704', 'refreshed_at': '2018-12-21T22:31:03.402Z', 'newest_available_date': '2018-12-21', 'oldest_available_date': '2000-06-07', 'column_names': ['Date', 'Open', 'High', 'Low', 'Close', 'Change', 'Traded Volume', 'Turnover', 'Last Price of the Day', 'Daily Traded Units', 'Daily Turnover'], 'frequency': 'daily', 'type': 'Time Series', 'premium': False, 'limit': None, 'transform': None, 'column_index': None, 'start_date': '2018-12-21', 'end_date': '2018-12-21', 'data': [['2018-12-21', None, 69.3, 67.9, 68.95, None, None, None, None, None, None]], 'collapse': None, 'order': None, 'database_id': 6129}\n"
     ]
    }
   ],
   "source": [
    "# Inspect the JSON structure of the object you created, and take note of how nested it is,\n",
    "# as well as the overall structure\n",
    "json_data = r.json()\n",
    "print(\"This level contain(s) \",len(json_data),\" node(s)\")\n",
    "for _, value in enumerate(json_data):\n",
    "    print(value, \":\" , json_data[value])"
   ]
  },
  {
   "cell_type": "markdown",
   "metadata": {},
   "source": [
    "The above shows that at the top level the JSON has only one node (\"dataset\"). Let us now iterate through the nodes in \"dataset\""
   ]
  },
  {
   "cell_type": "code",
   "execution_count": 5,
   "metadata": {},
   "outputs": [
    {
     "name": "stdout",
     "output_type": "stream",
     "text": [
      "This level contain(s)  21  node(s)\n",
      "id : 10095370  ---  <class 'int'>\n",
      "dataset_code : AFX_X  ---  <class 'str'>\n",
      "database_code : FSE  ---  <class 'str'>\n",
      "name : Carl Zeiss Meditec (AFX_X)  ---  <class 'str'>\n",
      "description : Stock Prices for Carl Zeiss Meditec (AFX) from the Frankfurt Stock Exchange.<br><br>Trading System: Xetra<br><br>ISIN: DE0005313704  ---  <class 'str'>\n",
      "refreshed_at : 2018-12-21T22:31:03.402Z  ---  <class 'str'>\n",
      "newest_available_date : 2018-12-21  ---  <class 'str'>\n",
      "oldest_available_date : 2000-06-07  ---  <class 'str'>\n",
      "column_names : ['Date', 'Open', 'High', 'Low', 'Close', 'Change', 'Traded Volume', 'Turnover', 'Last Price of the Day', 'Daily Traded Units', 'Daily Turnover']  ---  <class 'list'>\n",
      "frequency : daily  ---  <class 'str'>\n",
      "type : Time Series  ---  <class 'str'>\n",
      "premium : False  ---  <class 'bool'>\n",
      "limit : None  ---  <class 'NoneType'>\n",
      "transform : None  ---  <class 'NoneType'>\n",
      "column_index : None  ---  <class 'NoneType'>\n",
      "start_date : 2018-12-21  ---  <class 'str'>\n",
      "end_date : 2018-12-21  ---  <class 'str'>\n",
      "data : [['2018-12-21', None, 69.3, 67.9, 68.95, None, None, None, None, None, None]]  ---  <class 'list'>\n",
      "collapse : None  ---  <class 'NoneType'>\n",
      "order : None  ---  <class 'NoneType'>\n",
      "database_id : 6129  ---  <class 'int'>\n"
     ]
    }
   ],
   "source": [
    "print(\"This level contain(s) \",len(json_data['dataset']),\" node(s)\")\n",
    "for _, value in enumerate(json_data['dataset']):   \n",
    "    print(value, \":\" , json_data['dataset'][value], \" --- \",type(json_data['dataset'][value])) "
   ]
  },
  {
   "cell_type": "markdown",
   "metadata": {},
   "source": [
    "The next level has 21 nodes. The class of each node is either 'int', 'str' or 'NoneType' with the exception of 'column_names' and 'data'. \n",
    "\n",
    "'column_names' is a list of strings with 11 items.\n",
    "\n",
    "'data' is a list of lists. Each list is related to the stock information for one day. Since we have selected only one date the 'data' list will only contain one element. Each element in 'data' is a list of 11 elements. The elements of 'data' are listed in decending order of 'Date'. Meaning that the 'data' list starts with an element containing stock information pertaining to the latest calender date in the 'data' list and ends with that of the earliest date in the 'data' list.    \n",
    "\n",
    "The list 'column_names' is therefore comprised of the column names of the lists contained in each element of json_data['dataset']['data']"
   ]
  },
  {
   "cell_type": "markdown",
   "metadata": {},
   "source": [
    "These are your tasks for this mini project:\n",
    "\n",
    "1. Collect data from the Franfurt Stock Exchange, for the ticker AFX_X, for the whole year 2017 (keep in mind that the date format is YYYY-MM-DD).\n",
    "2. Convert the returned JSON object into a Python dictionary.\n",
    "3. Calculate what the highest and lowest opening prices were for the stock in this period.\n",
    "4. What was the largest change in any one day (based on High and Low price)?\n",
    "5. What was the largest change between any two days (based on Closing Price)?\n",
    "6. What was the average daily trading volume during this year?\n",
    "7. (Optional) What was the median trading volume during this year. (Note: you may need to implement your own function for calculating the median.)"
   ]
  },
  {
   "cell_type": "code",
   "execution_count": 6,
   "metadata": {},
   "outputs": [],
   "source": [
    "# 1. Collect data from the Franfurt Stock Exchange, for the ticker AFX_X, for the whole year 2017 \n",
    "# (keep in mind that the date format is YYYY-MM-DD).\n",
    "\n",
    "url = \"https://www.quandl.com/api/v3/datasets/FSE/AFX_X?start_date=2017-01-01&end_date=2017-12-31&api_key=\"+API_KEY\n",
    "r = requests.get(url)\n",
    "r.close()"
   ]
  },
  {
   "cell_type": "code",
   "execution_count": 7,
   "metadata": {},
   "outputs": [],
   "source": [
    "# 2.Convert the returned JSON object into a Python dictionary.\n",
    "json_data = r.json()\n",
    "root = json_data['dataset']\n",
    "\n",
    "# create empty ordered dictionary afxx. This dictionary will contain 1 entry per each day of stock data.\n",
    "# The key for each entry will be the date for which that entry is providing stock information on. The value for each \n",
    "# entry of this ordered dictinary will be a dictionary containing 10 entries. The keys for the 10 entries are listed in \n",
    "# root['column_names'][1:11]\n",
    "afxx = collections.OrderedDict()\n",
    "\n",
    "# Build ordered dictionary by iterating through root['data']. Afer inserting each element in ordered dictionary,\n",
    "# that element needs to be moved to the begining of the ordered dictionary in order for the informatino to be \n",
    "# chronologically sorted\n",
    "for i,elem in enumerate(root['data']):\n",
    "    dictElement = dict(zip(root['column_names'][1:11],elem[1:11]))\n",
    "    afxx[elem[0]] = dictElement\n",
    "    afxx.move_to_end(elem[0], last=False)"
   ]
  },
  {
   "cell_type": "code",
   "execution_count": 8,
   "metadata": {},
   "outputs": [
    {
     "name": "stdout",
     "output_type": "stream",
     "text": [
      "53.11\n",
      "34.0\n"
     ]
    }
   ],
   "source": [
    "# 3.Calculate what the highest and lowest opening prices were for the stock in this period.\n",
    "maxOpen = next(iter(afxx.items()))[1]['Open']\n",
    "minOpen = maxOpen\n",
    "\n",
    "for _,e in afxx.items():\n",
    "    if e['Open'] is not None:\n",
    "        if e['Open'] > maxOpen:\n",
    "            maxOpen = e['Open']\n",
    "        if e['Open'] < minOpen:\n",
    "            minOpen = e['Open']            \n",
    "print(maxOpen)\n",
    "print(minOpen)"
   ]
  },
  {
   "cell_type": "code",
   "execution_count": 9,
   "metadata": {},
   "outputs": [
    {
     "name": "stdout",
     "output_type": "stream",
     "text": [
      "2.8100000000000023\n"
     ]
    }
   ],
   "source": [
    "# 4. What was the largest change in any one day (based on High and Low price)?\n",
    "firstItem = next(iter(afxx.items()))[1]\n",
    "largestChangeHL = firstItem['High'] - firstItem['Low']\n",
    "\n",
    "for _,e in afxx.items():\n",
    "    change = e['High'] - e['Low']\n",
    "    if change > largestChangeHL:\n",
    "        largestChangeHL = change\n",
    "print(largestChangeHL)"
   ]
  },
  {
   "cell_type": "code",
   "execution_count": 10,
   "metadata": {},
   "outputs": [
    {
     "name": "stdout",
     "output_type": "stream",
     "text": [
      "2.559999999999995\n"
     ]
    }
   ],
   "source": [
    "# 5.What was the largest change between any two days (based on Closing Price)?\n",
    "listOfKeys = list(afxx.keys())\n",
    "n = len(listOfKeys)\n",
    "largestChangeC = abs(afxx[listOfKeys[0]]['Close'] - afxx[listOfKeys[1]]['Close'])\n",
    "\n",
    "for i in range(1,n-1):\n",
    "    change = abs(afxx[listOfKeys[i]]['Close'] - afxx[listOfKeys[i+1]]['Close'])\n",
    "    if change > largestChangeC:\n",
    "        largestChangeC = change\n",
    "print(largestChangeC)"
   ]
  },
  {
   "cell_type": "code",
   "execution_count": 11,
   "metadata": {},
   "outputs": [
    {
     "name": "stdout",
     "output_type": "stream",
     "text": [
      "89124.33725490196\n"
     ]
    }
   ],
   "source": [
    "# 6.What was the average daily trading volume during this year?\n",
    "sumVolume = 0\n",
    "for _,e in afxx.items():\n",
    "    sumVolume += e['Traded Volume']\n",
    "averageDailyVolume = sumVolume / len(afxx)\n",
    "print(averageDailyVolume)"
   ]
  },
  {
   "cell_type": "code",
   "execution_count": 12,
   "metadata": {},
   "outputs": [
    {
     "name": "stdout",
     "output_type": "stream",
     "text": [
      "76286.0\n"
     ]
    }
   ],
   "source": [
    "#7. (Optional) What was the median trading volume during this year. \n",
    "#   (Note: you may need to implement your own function for calculating the median.)\n",
    "l = []\n",
    "for _,e in afxx.items():\n",
    "     l.append(e['Traded Volume'])\n",
    "l.sort()\n",
    "print(l[int((len(l)+1)/2 - 1)])"
   ]
  }
 ],
 "metadata": {
  "kernelspec": {
   "display_name": "Python 3",
   "language": "python",
   "name": "python3"
  },
  "language_info": {
   "codemirror_mode": {
    "name": "ipython",
    "version": 3
   },
   "file_extension": ".py",
   "mimetype": "text/x-python",
   "name": "python",
   "nbconvert_exporter": "python",
   "pygments_lexer": "ipython3",
   "version": "3.7.0"
  }
 },
 "nbformat": 4,
 "nbformat_minor": 2
}
